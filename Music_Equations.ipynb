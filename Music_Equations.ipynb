{
  "nbformat": 4,
  "nbformat_minor": 0,
  "metadata": {
    "kernelspec": {
      "display_name": "Python 3",
      "language": "python",
      "name": "python3"
    },
    "language_info": {
      "codemirror_mode": {
        "name": "ipython",
        "version": 3
      },
      "file_extension": ".py",
      "mimetype": "text/x-python",
      "name": "python",
      "nbconvert_exporter": "python",
      "pygments_lexer": "ipython3",
      "version": "3.8.11"
    },
    "colab": {
      "name": "Music_Equations.ipynb",
      "private_outputs": true,
      "provenance": [],
      "collapsed_sections": []
    }
  },
  "cells": [
    {
      "cell_type": "markdown",
      "metadata": {
        "id": "5V1psEusIGK5"
      },
      "source": [
        "# Music Equations (ver 0.3)\n",
        "\n",
        "***\n",
        "\n",
        "## Listen to the muse of mathematics!!!\n",
        "\n",
        "***\n",
        "\n",
        "### Project Los Angeles\n",
        "### Tegridy Code 2021\n",
        "\n",
        "***"
      ]
    },
    {
      "cell_type": "markdown",
      "metadata": {
        "id": "fL2gcKd_rFWh"
      },
      "source": [
        "# Setup Environment"
      ]
    },
    {
      "cell_type": "code",
      "metadata": {
        "id": "8U9gkI2Aex90",
        "cellView": "form"
      },
      "source": [
        "#@title Install dependencies\n",
        "%cd /content/\n",
        "!git clone https://github.com/asigalov61/tegridy-tools\n",
        "!pip install -U scikit-learn"
      ],
      "execution_count": null,
      "outputs": []
    },
    {
      "cell_type": "code",
      "metadata": {
        "id": "Q7J3Cz2WXDzH",
        "cellView": "form"
      },
      "source": [
        "#@title Import modules\n",
        "%cd /content/tegridy-tools/tegridy-tools\n",
        "import os\n",
        "import TMIDIX\n",
        "from joblib import dump, load\n",
        "from sklearn.preprocessing import StandardScaler, RobustScaler\n",
        "import math\n",
        "import numpy as np\n",
        "%cd /content/"
      ],
      "execution_count": null,
      "outputs": []
    },
    {
      "cell_type": "markdown",
      "metadata": {
        "id": "1Z62kLAluL4f"
      },
      "source": [
        "# Process"
      ]
    },
    {
      "cell_type": "code",
      "metadata": {
        "id": "180bWxjTU4Jf",
        "cellView": "form"
      },
      "source": [
        "#@title Load the source MIDI file\n",
        "full_path_to_MIDI_file = \"/content/tegridy-tools/tegridy-tools/seed2.mid\" #@param {type:\"string\"}\n",
        "perfect_timings = True #@param {type:\"boolean\"}\n",
        "data = TMIDIX.Optimus_MIDI_TXT_Processor(full_path_to_MIDI_file, MIDI_patch=range(0, 127), MIDI_channel=-1, perfect_timings=perfect_timings)"
      ],
      "execution_count": null,
      "outputs": []
    },
    {
      "cell_type": "code",
      "metadata": {
        "id": "9hVsfmdfVJVS",
        "cellView": "form"
      },
      "source": [
        "#@title Encode to INTs\n",
        "sts = []\n",
        "pitches = []\n",
        "durs = []\n",
        "pe = data[2][0]\n",
        "for d in data[2]:\n",
        "\n",
        "    sts.append(abs(d[1]-pe[1]))\n",
        "    durs.append(d[2])\n",
        "    pitches.append(d[4])\n",
        "    pe = d\n",
        "print(sts[:5])\n",
        "print(durs[:5])\n",
        "print(pitches[:5])\n",
        "# prepare data for standardization\n",
        "sts1 = np.asarray(sts)\n",
        "sts2 = sts1.reshape((len(sts1), 1))\n",
        "# train the standardization\n",
        "#scaler = RobustScaler(with_centering=False, with_scaling=True)\n",
        "scaler = StandardScaler(with_mean=True)\n",
        "scaler = scaler.fit(sts2)\n",
        "print('Mean: %f, StandardDeviation: %f' % (scaler.mean_, math.sqrt(scaler.var_)))\n",
        "# standardization the dataset and print the first 5 rows\n",
        "sts_norm = scaler.transform(sts2)\n",
        "sts_ints = []\n",
        "for d in sts_norm.tolist():\n",
        "  #print(d * 10000)\n",
        "  #z = 5\n",
        "  #y = round(d[0], math.ceil(-math.log10(d[0])) + z)\n",
        "  #sts_ints.append(y)\n",
        "  sts_ints.append(abs(math.ceil(d[0])))\n",
        "for i in range(15):\n",
        "\t  print(sts_ints[i])\n",
        "\n",
        "dump(scaler, '/content/sts_scaler.bin', compress=True)\n",
        "\n",
        "print('=====')\n",
        "\n",
        "# prepare data for standardization\n",
        "durs1 = np.asarray(durs)\n",
        "durs2 = durs1.reshape((len(durs1), 1))\n",
        "#scaler1 = RobustScaler(with_centering=False, with_scaling=True)\n",
        "scaler1 = StandardScaler(with_mean=True)\n",
        "scaler1 = scaler1.fit(durs2)\n",
        "print('Mean: %f, StandardDeviation: %f' % (scaler1.mean_, math.sqrt(scaler1.var_)))\n",
        "# standardization the dataset and print the first 5 rows\n",
        "durs_norm = scaler1.transform(durs2)\n",
        "\n",
        "\n",
        "durs_ints = []\n",
        "for d in durs_norm:\n",
        "  #print(d * 10000)\n",
        "  #z = 5\n",
        "  #y = round(d, math.ceil(-math.log10(d)) + z)\n",
        "  #durs_ints.append(y)\n",
        "  durs_ints.append(abs(math.ceil(d[0])))\n",
        "for i in range(15):\n",
        "\t  print(durs_ints[i])\n",
        "dump(scaler1, '/content/sts_scaler1.bin', compress=True)\n"
      ],
      "execution_count": null,
      "outputs": []
    },
    {
      "cell_type": "code",
      "metadata": {
        "id": "2mnPefwrKMqN",
        "cellView": "form"
      },
      "source": [
        "#@title Decode back to MIDI\n",
        "floats_vs_ints = True #@param {type:\"boolean\"}\n",
        "out_sts = []\n",
        "\n",
        "if floats_vs_ints:\n",
        "  z = sts_norm\n",
        "else:\n",
        "  z = np.asarray(sts_ints, dtype=float).reshape(-1, 1) # / 20000\n",
        "\n",
        "# inverse transform and print the first 5 rows\n",
        "inversed = scaler.inverse_transform(z)\n",
        "for i in range(len(z)):\n",
        "  #print(int(inversed[i]))\n",
        "  out_sts.append(math.ceil(inversed[i]))\n",
        "\n",
        "print('========')\n",
        "\n",
        "out_durs = []\n",
        "if floats_vs_ints:\n",
        "  z = durs_norm\n",
        "else:\n",
        "  z = np.asarray(durs_ints, dtype=float).reshape(-1, 1) #/ 20000\n",
        "\n",
        "# inverse transform and print the first 5 rows\n",
        "inversed = scaler1.inverse_transform(z)\n",
        "for i in range(len(z)):\n",
        "  #print(int(inversed[i]))\n",
        "  out_durs.append(math.ceil(inversed[i]))\n",
        "\n",
        "\n",
        "song = []\n",
        "time = 0\n",
        "for i in range(len(pitches)):\n",
        "  song.append(['note', time, out_durs[i], 0, pitches[i], pitches[i]+15])\n",
        "  time += out_sts[i]\n",
        "\n",
        "TMIDIX.Tegridy_SONG_to_MIDI_Converter(song, output_file_name='/content/Music-Equations-Composition',\n",
        "                                      number_of_ticks_per_quarter=500,\n",
        "                                      track_name='sklearn StandardScaler',\n",
        "                                      output_signature='Music Equations')"
      ],
      "execution_count": null,
      "outputs": []
    },
    {
      "cell_type": "markdown",
      "metadata": {
        "id": "F5UPtDYeuRmi"
      },
      "source": [
        "# Listen"
      ]
    },
    {
      "cell_type": "code",
      "metadata": {
        "cellView": "form",
        "id": "wwzUW_jst4uj"
      },
      "source": [
        "#@title Install prerequisites\n",
        "!apt install fluidsynth #Pip does not work for some reason. Only apt works\n",
        "!pip install midi2audio\n",
        "!pip install pretty_midi"
      ],
      "execution_count": null,
      "outputs": []
    },
    {
      "cell_type": "code",
      "metadata": {
        "cellView": "form",
        "id": "KJV5to2Yt8CS"
      },
      "source": [
        "#@title Plot and listen to the output\n",
        "#@markdown NOTE: May be very slow with the long compositions\n",
        "from midi2audio import FluidSynth\n",
        "from IPython.display import display, Javascript, HTML, Audio\n",
        "import pretty_midi\n",
        "import librosa.display\n",
        "import matplotlib.pyplot as plt\n",
        "from mpl_toolkits import mplot3d\n",
        "import numpy as np\n",
        "\n",
        "print('Synthesizing the last output MIDI... ')\n",
        "fname = '/content/Music-Equations-Composition'\n",
        "\n",
        "fn = os.path.basename(fname + '.mid')\n",
        "fn1 = fn.split('.')[0]\n",
        "\n",
        "print('Plotting the composition. Please wait...')\n",
        "\n",
        "pm = pretty_midi.PrettyMIDI(fname + '.mid')\n",
        "\n",
        "# Retrieve piano roll of the MIDI file\n",
        "piano_roll = pm.get_piano_roll()\n",
        "\n",
        "plt.figure(figsize=(14, 5))\n",
        "librosa.display.specshow(piano_roll, x_axis='time', y_axis='cqt_note', fmin=1, hop_length=160, sr=16000, cmap=plt.cm.hot)\n",
        "plt.title(fn1)\n",
        "\n",
        "FluidSynth(\"/usr/share/sounds/sf2/FluidR3_GM.sf2\", 16000).midi_to_audio(str(fname + '.mid'), str(fname + '.wav'))\n",
        "Audio(str(fname + '.wav'), rate=16000)"
      ],
      "execution_count": null,
      "outputs": []
    },
    {
      "cell_type": "markdown",
      "metadata": {
        "id": "5uvFGBrftrrD"
      },
      "source": [
        "# Congrats! You did it! :)"
      ]
    }
  ]
}